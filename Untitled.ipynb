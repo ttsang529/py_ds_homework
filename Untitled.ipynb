{
 "cells": [
  {
   "cell_type": "code",
   "execution_count": 46,
   "metadata": {
    "collapsed": false
   },
   "outputs": [
    {
     "name": "stdout",
     "output_type": "stream",
     "text": [
      "<class 'pandas.core.frame.DataFrame'>\n"
     ]
    },
    {
     "data": {
      "text/html": [
       "<div>\n",
       "<table border=\"1\" class=\"dataframe\">\n",
       "  <thead>\n",
       "    <tr style=\"text-align: right;\">\n",
       "      <th></th>\n",
       "      <th>age</th>\n",
       "      <th>name</th>\n",
       "    </tr>\n",
       "  </thead>\n",
       "  <tbody>\n",
       "    <tr>\n",
       "      <th>0</th>\n",
       "      <td>19</td>\n",
       "      <td>Monkey D. Luffy</td>\n",
       "    </tr>\n",
       "    <tr>\n",
       "      <th>1</th>\n",
       "      <td>21</td>\n",
       "      <td>Roronoa Zoro</td>\n",
       "    </tr>\n",
       "    <tr>\n",
       "      <th>2</th>\n",
       "      <td>20</td>\n",
       "      <td>Nami</td>\n",
       "    </tr>\n",
       "    <tr>\n",
       "      <th>3</th>\n",
       "      <td>19</td>\n",
       "      <td>Usopp</td>\n",
       "    </tr>\n",
       "    <tr>\n",
       "      <th>4</th>\n",
       "      <td>21</td>\n",
       "      <td>Vinsmoke Sanji</td>\n",
       "    </tr>\n",
       "    <tr>\n",
       "      <th>5</th>\n",
       "      <td>17</td>\n",
       "      <td>Tony Tony Chopper</td>\n",
       "    </tr>\n",
       "    <tr>\n",
       "      <th>6</th>\n",
       "      <td>30</td>\n",
       "      <td>Nico Robin</td>\n",
       "    </tr>\n",
       "    <tr>\n",
       "      <th>7</th>\n",
       "      <td>36</td>\n",
       "      <td>Franky</td>\n",
       "    </tr>\n",
       "    <tr>\n",
       "      <th>8</th>\n",
       "      <td>90</td>\n",
       "      <td>Brook</td>\n",
       "    </tr>\n",
       "  </tbody>\n",
       "</table>\n",
       "</div>"
      ],
      "text/plain": [
       "   age               name\n",
       "0   19    Monkey D. Luffy\n",
       "1   21       Roronoa Zoro\n",
       "2   20               Nami\n",
       "3   19              Usopp\n",
       "4   21     Vinsmoke Sanji\n",
       "5   17  Tony Tony Chopper\n",
       "6   30         Nico Robin\n",
       "7   36             Franky\n",
       "8   90              Brook"
      ]
     },
     "execution_count": 46,
     "metadata": {},
     "output_type": "execute_result"
    }
   ],
   "source": [
    "import pandas as pd\n",
    "name = [\"Monkey D. Luffy\", \"Roronoa Zoro\", \"Nami\", \"Usopp\", \"Vinsmoke Sanji\", \"Tony Tony Chopper\", \"Nico Robin\", \"Franky\", \"Brook\"]\n",
    "age = [19, 21, 20, 19, 21, 17, 30, 36, 90]\n",
    "\n",
    "straw_hat_dict = {\"name\": name,\n",
    "                  \"age\": age\n",
    "}\n",
    "\n",
    "straw_hat_df = pd.DataFrame(straw_hat_dict)\n",
    "print(type(straw_hat_df))\n",
    "straw_hat_df"
   ]
  },
  {
   "cell_type": "code",
   "execution_count": 115,
   "metadata": {
    "collapsed": false
   },
   "outputs": [
    {
     "name": "stdout",
     "output_type": "stream",
     "text": [
      "<class 'pandas.core.frame.DataFrame'>\n",
      "<class 'pandas.core.series.Series'>\n"
     ]
    },
    {
     "data": {
      "text/plain": [
       "0     True\n",
       "1     True\n",
       "2     True\n",
       "3     True\n",
       "4     True\n",
       "5     True\n",
       "6     True\n",
       "7    False\n",
       "8    False\n",
       "Name: age, dtype: bool"
      ]
     },
     "execution_count": 115,
     "metadata": {},
     "output_type": "execute_result"
    }
   ],
   "source": [
    "import pandas as pd # 引用套件並縮寫為 pd\n",
    "\n",
    "name = [\"Monkey D. Luffy\", \"Roronoa Zoro\", \"Nami\", \"Usopp\", \"Vinsmoke Sanji\", \"Tony Tony Chopper\", \"Nico Robin\", \"Franky\", \"Brook\"]\n",
    "age = [19, 21, 20, 19, 21, 17, 30, 36, 90]\n",
    "is_male = [True, True, False, True, True, True, False, True, True]\n",
    "\n",
    "straw_hat_dict = {\"name\": name,\n",
    "                  \"age\": age,\n",
    "                  \"is_male\": is_male\n",
    "}\n",
    "\n",
    "straw_hat_df = pd.DataFrame(straw_hat_dict)\n",
    "\n",
    "# 篩選小於 30 歲的船員\n",
    "filter = straw_hat_df.ix[:, \"age\"] <= 30\n",
    "straw_hat_df[filter]\n",
    "\n",
    "\n",
    "print(type(straw_hat_df))\n",
    "print(type(filter))\n",
    "filter"
   ]
  },
  {
   "cell_type": "code",
   "execution_count": 98,
   "metadata": {
    "collapsed": false
   },
   "outputs": [
    {
     "name": "stdout",
     "output_type": "stream",
     "text": [
      "(9, 3)\n",
      "---\n",
      "             age\n",
      "count   9.000000\n",
      "mean   30.333333\n",
      "std    23.205603\n",
      "min    17.000000\n",
      "25%    19.000000\n",
      "50%    21.000000\n",
      "75%    30.000000\n",
      "max    90.000000\n",
      "---\n",
      "   age is_male             name\n",
      "0   19    True  Monkey D. Luffy\n",
      "1   21    True     Roronoa Zoro\n",
      "2   20   False             Nami\n",
      "---\n",
      "   age is_male        name\n",
      "6   30   False  Nico Robin\n",
      "7   36    True      Franky\n",
      "8   90    True       Brook\n",
      "---\n",
      "Index(['age', 'is_male', 'name'], dtype='object')\n",
      "---\n",
      "RangeIndex(start=0, stop=9, step=1)\n"
     ]
    }
   ],
   "source": [
    "import pandas as pd # 引用套件並縮寫為 pd\n",
    "\n",
    "name = [\"Monkey D. Luffy\", \"Roronoa Zoro\", \"Nami\", \"Usopp\", \"Vinsmoke Sanji\", \"Tony Tony Chopper\", \"Nico Robin\", \"Franky\", \"Brook\"]\n",
    "age = [19, 21, 20, 19, 21, 17, 30, 36, 90]\n",
    "is_male = [True, True, False, True, True, True, False, True, True]\n",
    "\n",
    "straw_hat_dict = {\"name\": name,\n",
    "                  \"age\": age,\n",
    "                  \"is_male\": is_male\n",
    "}\n",
    "\n",
    "straw_hat_df = pd.DataFrame(straw_hat_dict)\n",
    "\n",
    "print(straw_hat_df.shape) # 回傳列數與欄數\n",
    "print(\"---\")\n",
    "print(straw_hat_df.describe()) # 回傳描述性統計\n",
    "print(\"---\")\n",
    "print(straw_hat_df.head(3)) # 回傳前三筆觀測值\n",
    "print(\"---\")\n",
    "print(straw_hat_df.tail(3)) # 回傳後三筆觀測值\n",
    "print(\"---\")\n",
    "print(straw_hat_df.columns) # 回傳欄位名稱\n",
    "print(\"---\")\n",
    "print(straw_hat_df.index) # 回傳索引值"
   ]
  },
  {
   "cell_type": "code",
   "execution_count": 72,
   "metadata": {
    "collapsed": false
   },
   "outputs": [
    {
     "name": "stdout",
     "output_type": "stream",
     "text": [
      "蒙其·D·魯夫 兩年前是 17 歲。\n"
     ]
    }
   ],
   "source": [
    "class Strawhat:\n",
    "    '''\n",
    "    這是一個叫做 Strawhat 的類別\n",
    "    '''\n",
    "    def __init__(self, name, age):\n",
    "        self.name = name\n",
    "        self.age = age\n",
    "\n",
    "    def print_age_2_yr_ago(self):\n",
    "        age_2_yr_age = self.age - 2\n",
    "        print(self.name, \"兩年前是\", age_2_yr_age, \"歲。\")\n",
    "\n",
    "# 根據 Strawhat 類別建立物件\n",
    "luffy = Strawhat(\"蒙其·D·魯夫\", 19)\n",
    "\n",
    "# 使用 luffy 的 print_age_2_yr_ago() 方法\n",
    "luffy.print_age_2_yr_ago()\n"
   ]
  },
  {
   "cell_type": "code",
   "execution_count": 6,
   "metadata": {
    "collapsed": false
   },
   "outputs": [
    {
     "name": "stdout",
     "output_type": "stream",
     "text": [
      "False\n",
      "True\n",
      "7\n",
      "3\n",
      "Python for data science!!!\n",
      "Python For Data Science!!!\n",
      "PYTHON FOR DATA SCIENCE!!!\n",
      "python for data science!!!\n",
      "PYTHON FOR dATA SCIENCE!!!\n",
      "python for Data analysis!!!\n"
     ]
    }
   ],
   "source": [
    "my_str = \"python for Data science!!!\"\n",
    "\n",
    "print(my_str.startswith(\"Python\"))\n",
    "print(my_str.endswith(\"!\"))\n",
    "print(my_str.find(\"for\"))\n",
    "print(my_str.count(\"!\"))\n",
    "print(my_str.capitalize())\n",
    "print(my_str.title())\n",
    "print(my_str.upper())\n",
    "print(my_str.lower())\n",
    "print(my_str.swapcase())\n",
    "print(my_str.replace(\"science\", \"analysis\"))"
   ]
  },
  {
   "cell_type": "code",
   "execution_count": 14,
   "metadata": {
    "collapsed": false
   },
   "outputs": [
    {
     "name": "stdout",
     "output_type": "stream",
     "text": [
      "[19, 21, 20, 19, 21, 17, 30, 36, 90]\n",
      "90\n",
      "[19, 21, 20, 19, 21, 17, 30, 36]\n",
      "1\n",
      "2\n",
      "[17, 19, 19, 20, 21, 21, 30, 36, 90, 90]\n",
      "[90, 90, 36, 30, 21, 21, 20, 19, 19, 17]\n"
     ]
    }
   ],
   "source": [
    "age = [19, 21, 20, 19, 21, 17, 30, 36]\n",
    "\n",
    "age.append(90)\n",
    "print(age)\n",
    "brook_age = age.pop()\n",
    "print(brook_age)\n",
    "print(age)\n",
    "age.insert(8, brook_age)\n",
    "age.remove(brook_age)\n",
    "print(age.index(21))\n",
    "age.append(90)\n",
    "age.append(90)\n",
    "print(age.count(90))\n",
    "age.sort()\n",
    "print(age)\n",
    "age.reverse()\n",
    "print(age)"
   ]
  },
  {
   "cell_type": "code",
   "execution_count": 15,
   "metadata": {
    "collapsed": false
   },
   "outputs": [
    {
     "name": "stdout",
     "output_type": "stream",
     "text": [
      "21\n",
      "dict_keys(['win_percentage', 'is_on_winning_streak', 'team_name', 'losses', 'wins'])\n",
      "dict_values([0.84, True, '金州勇士隊', 4, 21])\n"
     ]
    }
   ],
   "source": [
    "team_name = \"金州勇士隊\"\n",
    "wins = 21\n",
    "losses = 4\n",
    "win_percentage = 0.84\n",
    "is_on_winning_streak = True\n",
    "\n",
    "golden_state_warriors = {\n",
    "    \"team_name\": team_name,\n",
    "    \"wins\": wins,\n",
    "    \"losses\": losses,\n",
    "    \"win_percentage\": win_percentage,\n",
    "    \"is_on_winning_streak\": is_on_winning_streak\n",
    "}\n",
    "\n",
    "print(golden_state_warriors.get(\"wins\"))\n",
    "print(golden_state_warriors.keys()) # 用 list 把結果轉換\n",
    "print(golden_state_warriors.values()) # 用 list 把結果轉換"
   ]
  },
  {
   "cell_type": "code",
   "execution_count": 16,
   "metadata": {
    "collapsed": false
   },
   "outputs": [
    {
     "name": "stdout",
     "output_type": "stream",
     "text": [
      "[ 0.  0.  0.  0.  0.  0.]\n",
      "[ 0  1  2  3  4  5  6  7  8  9 10]\n",
      "[ 1  2  3  4  5  6  7  8  9 10]\n",
      "['0' '1' '2' '3' '4' '5' '6' '7' '8' '9']\n",
      "[[0 1 2 3 4]\n",
      " [5 6 7 8 9]]\n",
      "[[0 5]\n",
      " [1 6]\n",
      " [2 7]\n",
      " [3 8]\n",
      " [4 9]]\n",
      "[ 0.65110539 -0.41416267  1.28655613  0.37461533 -0.34172575  1.21339976\n",
      "  0.51818595 -0.93994997 -0.76674548 -0.3431876 ]\n",
      "[ 0.67158004  0.27388131  0.76439097  0.27507498  0.71854902  0.84811751\n",
      "  0.6720321   0.79875613  0.06430746  0.0227234 ]\n"
     ]
    }
   ],
   "source": [
    "import numpy as np\n",
    "\n",
    "print(np.zeros(6)) # 六個元素均為零的 1d array\n",
    "print(np.arange(11)) # 十一個元素為 0 到 10 的 1d array\n",
    "print(np.arange(1, 11)) # 十個元素為 1 到 10 的 1d array\n",
    "print(np.arange(10).astype(np.str)) # 利用 astype() 方法轉換為文字 \n",
    "print(np.arange(10).reshape(2, 5)) # 利用 reshape() 轉換為矩陣\n",
    "print(np.arange(10).reshape(2, 5).T) # 利用 T 屬性轉置\n",
    "print(np.random.normal(size = 10)) # 生成 10 組標準常態分配（平均值為 0，標準差為 1 的常態分配）隨機變數\n",
    "print(np.random.uniform(size = 10)) # 生成 10 組介於 0 與 1 之間均勻分配隨機變數\n"
   ]
  },
  {
   "cell_type": "code",
   "execution_count": 46,
   "metadata": {
    "collapsed": false
   },
   "outputs": [
    {
     "name": "stdout",
     "output_type": "stream",
     "text": [
      "   age      name\n",
      "0   19   蒙其·D·魯夫\n",
      "1   21    羅羅亞·索隆\n",
      "2   20        娜美\n",
      "3   19       騙人布\n",
      "4   21  賓什莫克·香吉士\n",
      "5   17   多尼多尼·喬巴\n",
      "6   30     妮可·羅賓\n",
      "7   36       佛朗基\n",
      "8   90       布魯克\n",
      "   age      name\n",
      "1   21    羅羅亞·索隆\n",
      "2   20        娜美\n",
      "3   19       騙人布\n",
      "4   21  賓什莫克·香吉士\n",
      "5   17   多尼多尼·喬巴\n",
      "6   30     妮可·羅賓\n",
      "7   36       佛朗基\n",
      "8   90       布魯克\n",
      "   age\n",
      "0   19\n",
      "1   21\n",
      "2   20\n",
      "3   19\n",
      "4   21\n",
      "5   17\n",
      "6   30\n",
      "7   36\n",
      "8   90\n",
      "age          19\n",
      "name    蒙其·D·魯夫\n",
      "Name: 0, dtype: object\n",
      "---------\n",
      "0    19\n",
      "1    21\n",
      "2    20\n",
      "3    19\n",
      "4    21\n",
      "5    17\n",
      "6    30\n",
      "7    36\n",
      "8    90\n",
      "Name: age, dtype: int64\n",
      "---------\n",
      "19\n",
      "---------\n",
      "   age   name\n",
      "6   30  妮可·羅賓\n",
      "7   36    佛朗基\n",
      "8   90    布魯克\n",
      "---------\n",
      "---------\n",
      "   age     name\n",
      "0   19  蒙其·D·魯夫\n"
     ]
    }
   ],
   "source": [
    "import pandas as pd\n",
    "\n",
    "name = [\"蒙其·D·魯夫\", \"羅羅亞·索隆\", \"娜美\", \"騙人布\", \"賓什莫克·香吉士\", \"多尼多尼·喬巴\", \"妮可·羅賓\", \"佛朗基\", \"布魯克\"]\n",
    "age = [19, 21, 20, 19, 21, 17, 30, 36, 90]\n",
    "\n",
    "# 建立 dict\n",
    "straw_hat_dict = {\"name\": name,\n",
    "                  \"age\": age\n",
    "}\n",
    "\n",
    "# 建立 data frame\n",
    "straw_hat_df = pd.DataFrame(straw_hat_dict)\n",
    "print(straw_hat_df)\n",
    "# 刪除觀測值或欄位\n",
    "print(straw_hat_df.drop(0, axis = 0))\n",
    "print(straw_hat_df.drop(\"name\", axis = 1))\n",
    "\n",
    "# 選擇觀測值或欄位\n",
    "print(straw_hat_df.ix[0, :])\n",
    "print(\"---------\")\n",
    "print(straw_hat_df.ix[:, 0])\n",
    "print(\"---------\")\n",
    "print(straw_hat_df.ix[0, 0])\n",
    "\n",
    "# 透過布林值篩選\n",
    "print(\"---------\")\n",
    "filter = straw_hat_df.age >= 30\n",
    "print(straw_hat_df[filter])\n",
    "print(\"---------\")\n",
    "filter = straw_hat_df.age < 30\n",
    "filter_2 = straw_hat_df.name == \"蒙其·D·魯夫\"\n",
    "print(\"---------\")\n",
    "print(straw_hat_df[filter & filter_2])"
   ]
  },
  {
   "cell_type": "code",
   "execution_count": 47,
   "metadata": {
    "collapsed": false
   },
   "outputs": [
    {
     "data": {
      "image/png": "[encoded data removed]",
      "text/plain": [
       "<matplotlib.figure.Figure at 0x11259b908>"
      ]
     },
     "metadata": {},
     "output_type": "display_data"
    }
   ],
   "source": [
    "import matplotlib.pyplot as plt\n",
    "\n",
    "speed = [4, 4, 7, 7, 8, 9, 10, 10, 10, 11, 11, 12, 12, 12, 12, 13, 13, 13, 13, 14, 14, 14, 14, 15, 15, 15, 16, 16, 17, 17, 17, 18, 18, 18, 18, 19, 19, 19, 20, 20, 20, 20, 20, 22, 23, 24, 24, 24, 24, 25]\n",
    "dist = [2, 10, 4, 22, 16, 10, 18, 26, 34, 17, 28, 14, 20, 24, 28, 26, 34, 34, 46, 26, 36, 60, 80, 20, 26, 54, 32, 40, 32, 40, 50, 42, 56, 76, 84, 36, 46, 68, 32, 48, 52, 56, 64, 66, 54, 70, 92, 93, 120, 85]\n",
    "\n",
    "plt.scatter(speed, dist)\n",
    "plt.show()\n"
   ]
  },
  {
   "cell_type": "code",
   "execution_count": 49,
   "metadata": {
    "collapsed": false
   },
   "outputs": [
    {
     "data": {
      "image/png": "[encoded data removed]",
      "text/plain": [
       "<matplotlib.figure.Figure at 0x115cbec50>"
      ]
     },
     "metadata": {},
     "output_type": "display_data"
    }
   ],
   "source": [
    "import matplotlib.pyplot as plt\n",
    "\n",
    "speed = [4, 4, 7, 7, 8, 9, 10, 10, 10, 11, 11, 12, 12, 12, 12, 13, 13, 13, 13, 14, 14, 14, 14, 15, 15, 15, 16, 16, 17, 17, 17, 18, 18, 18, 18, 19, 19, 19, 20, 20, 20, 20, 20, 22, 23, 24, 24, 24, 24, 25]\n",
    "dist = [2, 10, 4, 22, 16, 10, 18, 26, 34, 17, 28, 14, 20, 24, 28, 26, 34, 34, 46, 26, 36, 60, 80, 20, 26, 54, 32, 40, 32, 40, 50, 42, 56, 76, 84, 36, 46, 68, 32, 48, 52, 56, 64, 66, 54, 70, 92, 93, 120, 85]\n",
    "\n",
    "plt.plot(speed, dist)\n",
    "plt.show()"
   ]
  },
  {
   "cell_type": "code",
   "execution_count": 54,
   "metadata": {
    "collapsed": false
   },
   "outputs": [
    {
     "data": {
      "image/png": "[encoded data removed]",
      "text/plain": [
       "<matplotlib.figure.Figure at 0x116616d68>"
      ]
     },
     "metadata": {},
     "output_type": "display_data"
    },
    {
     "data": {
      "image/png": "[encoded data removed]",
      "text/plain": [
       "<matplotlib.figure.Figure at 0x116337e10>"
      ]
     },
     "metadata": {},
     "output_type": "display_data"
    }
   ],
   "source": [
    "import numpy as np\n",
    "import matplotlib.pyplot as ply\n",
    "\n",
    "normal_samples = np.random.normal(size = 1000)\n",
    "uniform_samples = np.random.uniform(size = 1000)\n",
    "\n",
    "plt.hist(normal_samples)\n",
    "plt.show()\n",
    "plt.hist(uniform_samples)\n",
    "plt.show()"
   ]
  },
  {
   "cell_type": "code",
   "execution_count": 57,
   "metadata": {
    "collapsed": false
   },
   "outputs": [
    {
     "data": {
      "image/png": "[encoded data removed]",
      "text/plain": [
       "<matplotlib.figure.Figure at 0x1169ce668>"
      ]
     },
     "metadata": {},
     "output_type": "display_data"
    }
   ],
   "source": [
    "import matplotlib.pyplot as plt\n",
    "\n",
    "speed = [4, 4, 7, 7, 8, 9, 10, 10, 10, 11, 11, 12, 12, 12, 12, 13, 13, 13, 13, 14, 14, 14, 14, 15, 15, 15, 16, 16, 17, 17, 17, 18, 18, 18, 18, 19, 19, 19, 20, 20, 20, 20, 20, 22, 23, 24, 24, 24, 24, 25]\n",
    "dist = [2, 10, 4, 22, 16, 10, 18, 26, 34, 17, 28, 14, 20, 24, 28, 26, 34, 34, 46, 26, 36, 60, 80, 20, 26, 54, 32, 40, 32, 40, 50, 42, 56, 76, 84, 36, 46, 68, 32, 48, 52, 56, 64, 66, 54, 70, 92, 93, 120, 85]\n",
    "\n",
    "plt.scatter(speed, dist)\n",
    "plt.xlabel(\"Vehicle Speed\")\n",
    "plt.ylabel(\"Braking Distance\")\n",
    "plt.title(\"The faster we drive, the longer braking distance we need\")\n",
    "plt.xticks([0, 10, 20, 30], ['0 mph', '10 mph', '20 mph', '30 mph'])\n",
    "plt.yticks([0, 40, 80, 120], ['0 ft', '40 ft', '80 ft', '120 ft'])\n",
    "plt.show()"
   ]
  },
  {
   "cell_type": "code",
   "execution_count": 60,
   "metadata": {
    "collapsed": false
   },
   "outputs": [
    {
     "name": "stdout",
     "output_type": "stream",
     "text": [
      "['red' 'red' 'red' 'blue' 'blue' 'blue' 'blue' 'blue' 'blue' 'blue' 'blue'\n",
      " 'blue' 'blue' 'blue' 'blue' 'blue' 'blue' 'red' 'red' 'red' 'blue' 'blue'\n",
      " 'blue' 'blue' 'blue' 'red' 'red' 'red' 'red' 'red' 'red' 'red']\n"
     ]
    },
    {
     "data": {
      "image/png": "[encoded data removed]",
      "text/plain": [
       "<matplotlib.figure.Figure at 0x1163538d0>"
      ]
     },
     "metadata": {},
     "output_type": "display_data"
    }
   ],
   "source": [
    "import matplotlib.pyplot as plt\n",
    "import numpy as py\n",
    "\n",
    "hp = [110, 110, 93, 110, 175, 105, 245, 62, 95, 123, 123, 180, 180, 180, 205, 215, 230, 66, 52, 65, 97, 150, 150, 245, 175, 66, 91, 113, 264, 175, 335, 109]\n",
    "mpg = [21, 21, 22.8, 21.4, 18.7, 18.1, 14.3, 24.4, 22.8, 19.2, 17.8, 16.4, 17.3, 15.2, 10.4, 10.4, 14.7, 32.4, 30.4, 33.9, 21.5, 15.5, 15.2, 13.3, 19.2, 27.3, 26, 30.4, 15.8, 19.7, 15, 21.4]\n",
    "wt = [2.62, 2.875, 2.32, 3.215, 3.44, 3.46, 3.57, 3.19, 3.15, 3.44, 3.44, 4.07, 3.73, 3.78, 5.25, 5.424, 5.345, 2.2, 1.615, 1.835, 2.465, 3.52, 3.435, 3.84, 3.845, 1.935, 2.14, 1.513, 3.17, 2.77, 3.57, 2.78]\n",
    "am = ['1', '1', '1', '0', '0', '0', '0', '0', '0', '0', '0', '0', '0', '0', '0', '0', '0', '1', '1', '1', '0', '0', '0', '0', '0', '1', '1', '1', '1', '1', '1', '1']\n",
    "new_wt = np.array(wt)**4\n",
    "new_am = np.where(np.array(am) == '1', \"red\", \"blue\")\n",
    "print(new_am)\n",
    "plt.scatter(hp, mpg, s = new_wt, c = new_am)\n",
    "plt.xlabel(\"Horse Power\")\n",
    "plt.ylabel(\"Miles per Gallon\")\n",
    "plt.title(\"The less horse power, the more efficient on gas consumption\")\n",
    "plt.text(110, 21, \"Mazda RX4\")\n",
    "\n",
    "plt.show()"
   ]
  },
  {
   "cell_type": "code",
   "execution_count": 68,
   "metadata": {
    "collapsed": false
   },
   "outputs": [
    {
     "name": "stderr",
     "output_type": "stream",
     "text": [
      "/Users/tsengwaiming/anaconda/lib/python3.5/site-packages/numpy/lib/function_base.py:3834: RuntimeWarning: Invalid value encountered in percentile\n",
      "  RuntimeWarning)\n"
     ]
    },
    {
     "data": {
      "text/html": [
       "<div>\n",
       "<table border=\"1\" class=\"dataframe\">\n",
       "  <thead>\n",
       "    <tr style=\"text-align: right;\">\n",
       "      <th></th>\n",
       "      <th>PassengerId</th>\n",
       "      <th>Survived</th>\n",
       "      <th>Pclass</th>\n",
       "      <th>Age</th>\n",
       "      <th>SibSp</th>\n",
       "      <th>Parch</th>\n",
       "      <th>Fare</th>\n",
       "    </tr>\n",
       "  </thead>\n",
       "  <tbody>\n",
       "    <tr>\n",
       "      <th>count</th>\n",
       "      <td>891.000000</td>\n",
       "      <td>891.000000</td>\n",
       "      <td>891.000000</td>\n",
       "      <td>714.000000</td>\n",
       "      <td>891.000000</td>\n",
       "      <td>891.000000</td>\n",
       "      <td>891.000000</td>\n",
       "    </tr>\n",
       "    <tr>\n",
       "      <th>mean</th>\n",
       "      <td>446.000000</td>\n",
       "      <td>0.383838</td>\n",
       "      <td>2.308642</td>\n",
       "      <td>29.699118</td>\n",
       "      <td>0.523008</td>\n",
       "      <td>0.381594</td>\n",
       "      <td>32.204208</td>\n",
       "    </tr>\n",
       "    <tr>\n",
       "      <th>std</th>\n",
       "      <td>257.353842</td>\n",
       "      <td>0.486592</td>\n",
       "      <td>0.836071</td>\n",
       "      <td>14.526497</td>\n",
       "      <td>1.102743</td>\n",
       "      <td>0.806057</td>\n",
       "      <td>49.693429</td>\n",
       "    </tr>\n",
       "    <tr>\n",
       "      <th>min</th>\n",
       "      <td>1.000000</td>\n",
       "      <td>0.000000</td>\n",
       "      <td>1.000000</td>\n",
       "      <td>0.420000</td>\n",
       "      <td>0.000000</td>\n",
       "      <td>0.000000</td>\n",
       "      <td>0.000000</td>\n",
       "    </tr>\n",
       "    <tr>\n",
       "      <th>25%</th>\n",
       "      <td>223.500000</td>\n",
       "      <td>0.000000</td>\n",
       "      <td>2.000000</td>\n",
       "      <td>NaN</td>\n",
       "      <td>0.000000</td>\n",
       "      <td>0.000000</td>\n",
       "      <td>7.910400</td>\n",
       "    </tr>\n",
       "    <tr>\n",
       "      <th>50%</th>\n",
       "      <td>446.000000</td>\n",
       "      <td>0.000000</td>\n",
       "      <td>3.000000</td>\n",
       "      <td>NaN</td>\n",
       "      <td>0.000000</td>\n",
       "      <td>0.000000</td>\n",
       "      <td>14.454200</td>\n",
       "    </tr>\n",
       "    <tr>\n",
       "      <th>75%</th>\n",
       "      <td>668.500000</td>\n",
       "      <td>1.000000</td>\n",
       "      <td>3.000000</td>\n",
       "      <td>NaN</td>\n",
       "      <td>1.000000</td>\n",
       "      <td>0.000000</td>\n",
       "      <td>31.000000</td>\n",
       "    </tr>\n",
       "    <tr>\n",
       "      <th>max</th>\n",
       "      <td>891.000000</td>\n",
       "      <td>1.000000</td>\n",
       "      <td>3.000000</td>\n",
       "      <td>80.000000</td>\n",
       "      <td>8.000000</td>\n",
       "      <td>6.000000</td>\n",
       "      <td>512.329200</td>\n",
       "    </tr>\n",
       "  </tbody>\n",
       "</table>\n",
       "</div>"
      ],
      "text/plain": [
       "       PassengerId    Survived      Pclass         Age       SibSp  \\\n",
       "count   891.000000  891.000000  891.000000  714.000000  891.000000   \n",
       "mean    446.000000    0.383838    2.308642   29.699118    0.523008   \n",
       "std     257.353842    0.486592    0.836071   14.526497    1.102743   \n",
       "min       1.000000    0.000000    1.000000    0.420000    0.000000   \n",
       "25%     223.500000    0.000000    2.000000         NaN    0.000000   \n",
       "50%     446.000000    0.000000    3.000000         NaN    0.000000   \n",
       "75%     668.500000    1.000000    3.000000         NaN    1.000000   \n",
       "max     891.000000    1.000000    3.000000   80.000000    8.000000   \n",
       "\n",
       "            Parch        Fare  \n",
       "count  891.000000  891.000000  \n",
       "mean     0.381594   32.204208  \n",
       "std      0.806057   49.693429  \n",
       "min      0.000000    0.000000  \n",
       "25%      0.000000    7.910400  \n",
       "50%      0.000000   14.454200  \n",
       "75%      0.000000   31.000000  \n",
       "max      6.000000  512.329200  "
      ]
     },
     "execution_count": 68,
     "metadata": {},
     "output_type": "execute_result"
    }
   ],
   "source": [
    "import pandas as pd\n",
    "\n",
    "# 讀入資料\n",
    "url = \"https://storage.googleapis.com/py_ds_basic/kaggle_titanic_train.csv\"\n",
    "titanic_train = pd.read_csv(url)\n",
    "\n",
    "# 看看資料\n",
    "titanic_train # 發現 Cabin 有 NaN\n",
    "\n",
    "# 描述性統計\n",
    "titanic_train.describe()"
   ]
  },
  {
   "cell_type": "code",
   "execution_count": 69,
   "metadata": {
    "collapsed": false
   },
   "outputs": [
    {
     "name": "stdout",
     "output_type": "stream",
     "text": [
      "       PassengerId    Survived      Pclass         Age       SibSp  \\\n",
      "count   891.000000  891.000000  891.000000  891.000000  891.000000   \n",
      "mean    446.000000    0.383838    2.308642   29.361582    0.523008   \n",
      "std     257.353842    0.486592    0.836071   13.019697    1.102743   \n",
      "min       1.000000    0.000000    1.000000    0.420000    0.000000   \n",
      "25%     223.500000    0.000000    2.000000   22.000000    0.000000   \n",
      "50%     446.000000    0.000000    3.000000   28.000000    0.000000   \n",
      "75%     668.500000    1.000000    3.000000   35.000000    1.000000   \n",
      "max     891.000000    1.000000    3.000000   80.000000    8.000000   \n",
      "\n",
      "            Parch        Fare  \n",
      "count  891.000000  891.000000  \n",
      "mean     0.381594   32.204208  \n",
      "std      0.806057   49.693429  \n",
      "min      0.000000    0.000000  \n",
      "25%      0.000000    7.910400  \n",
      "50%      0.000000   14.454200  \n",
      "75%      0.000000   31.000000  \n",
      "max      6.000000  512.329200  \n"
     ]
    },
    {
     "data": {
      "image/png": "[encoded data removed]",
      "text/plain": [
       "<matplotlib.figure.Figure at 0x1165e9748>"
      ]
     },
     "metadata": {},
     "output_type": "display_data"
    }
   ],
   "source": [
    "import numpy as np\n",
    "import matplotlib.pyplot as plt\n",
    "\n",
    "age_median = np.nanmedian(titanic_train[\"Age\"]) # 要忽略 NaN\n",
    "new_Age = np.where(titanic_train[\"Age\"].isnull(), age_median, titanic_train[\"Age\"])\n",
    "titanic_train[\"Age\"] = new_Age\n",
    "print(titanic_train.describe())\n",
    "plt.hist(titanic_train[\"Age\"])\n",
    "plt.show()"
   ]
  },
  {
   "cell_type": "code",
   "execution_count": 70,
   "metadata": {
    "collapsed": true
   },
   "outputs": [],
   "source": [
    "from sklearn import preprocessing\n",
    "\n",
    "label_encoder = preprocessing.LabelEncoder()\n",
    "encoded_Sex = label_encoder.fit_transform(titanic_train[\"Sex\"])\n",
    "encoded_Pclass = label_encoder.fit_transform(titanic_train[\"Pclass\"])"
   ]
  },
  {
   "cell_type": "code",
   "execution_count": 71,
   "metadata": {
    "collapsed": true
   },
   "outputs": [],
   "source": [
    "titanic_X = pd.DataFrame([encoded_Pclass,\n",
    "                          encoded_Sex,\n",
    "                          new_Age\n",
    "]).T\n",
    "\n",
    "titanic_y = titanic_train[\"Survived\"]"
   ]
  },
  {
   "cell_type": "code",
   "execution_count": 72,
   "metadata": {
    "collapsed": true
   },
   "outputs": [],
   "source": [
    "from sklearn.cross_validation import train_test_split\n",
    "\n",
    "# 切分訓練與測試資料\n",
    "train_X, test_X, train_y, test_y = train_test_split(titanic_X, titanic_y, test_size = 0.3)"
   ]
  },
  {
   "cell_type": "markdown",
   "metadata": {},
   "source": [
    "另一種超連結寫法：\n",
    "I get 10 times more traffic from [Google] [1] than from\n",
    "[Yahoo] [2] or [MSN] [3].\n",
    "\n",
    "  [1]: http://google.com/        \"Google搜尋\"\n",
    "  [2]: http://search.yahoo.com/  \"Yahoo 搜尋\"\n",
    "  [3]: http://search.msn.com/    \"MSN 搜尋\""
   ]
  }
 ],
 "metadata": {
  "anaconda-cloud": {},
  "kernelspec": {
   "display_name": "Python 3",
   "language": "python",
   "name": "python3"
  },
  "language_info": {
   "codemirror_mode": {
    "name": "ipython",
    "version": 3
   },
   "file_extension": ".py",
   "mimetype": "text/x-python",
   "name": "python",
   "nbconvert_exporter": "python",
   "pygments_lexer": "ipython3",
   "version": "3.5.2"
  }
 },
 "nbformat": 4,
 "nbformat_minor": 1
}
