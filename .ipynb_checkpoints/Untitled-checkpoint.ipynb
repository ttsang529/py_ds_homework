{
 "cells": [
  {
   "cell_type": "code",
   "execution_count": 46,
   "metadata": {
    "collapsed": false
   },
   "outputs": [
    {
     "name": "stdout",
     "output_type": "stream",
     "text": [
      "<class 'pandas.core.frame.DataFrame'>\n"
     ]
    },
    {
     "data": {
      "text/html": [
       "<div>\n",
       "<table border=\"1\" class=\"dataframe\">\n",
       "  <thead>\n",
       "    <tr style=\"text-align: right;\">\n",
       "      <th></th>\n",
       "      <th>age</th>\n",
       "      <th>name</th>\n",
       "    </tr>\n",
       "  </thead>\n",
       "  <tbody>\n",
       "    <tr>\n",
       "      <th>0</th>\n",
       "      <td>19</td>\n",
       "      <td>Monkey D. Luffy</td>\n",
       "    </tr>\n",
       "    <tr>\n",
       "      <th>1</th>\n",
       "      <td>21</td>\n",
       "      <td>Roronoa Zoro</td>\n",
       "    </tr>\n",
       "    <tr>\n",
       "      <th>2</th>\n",
       "      <td>20</td>\n",
       "      <td>Nami</td>\n",
       "    </tr>\n",
       "    <tr>\n",
       "      <th>3</th>\n",
       "      <td>19</td>\n",
       "      <td>Usopp</td>\n",
       "    </tr>\n",
       "    <tr>\n",
       "      <th>4</th>\n",
       "      <td>21</td>\n",
       "      <td>Vinsmoke Sanji</td>\n",
       "    </tr>\n",
       "    <tr>\n",
       "      <th>5</th>\n",
       "      <td>17</td>\n",
       "      <td>Tony Tony Chopper</td>\n",
       "    </tr>\n",
       "    <tr>\n",
       "      <th>6</th>\n",
       "      <td>30</td>\n",
       "      <td>Nico Robin</td>\n",
       "    </tr>\n",
       "    <tr>\n",
       "      <th>7</th>\n",
       "      <td>36</td>\n",
       "      <td>Franky</td>\n",
       "    </tr>\n",
       "    <tr>\n",
       "      <th>8</th>\n",
       "      <td>90</td>\n",
       "      <td>Brook</td>\n",
       "    </tr>\n",
       "  </tbody>\n",
       "</table>\n",
       "</div>"
      ],
      "text/plain": [
       "   age               name\n",
       "0   19    Monkey D. Luffy\n",
       "1   21       Roronoa Zoro\n",
       "2   20               Nami\n",
       "3   19              Usopp\n",
       "4   21     Vinsmoke Sanji\n",
       "5   17  Tony Tony Chopper\n",
       "6   30         Nico Robin\n",
       "7   36             Franky\n",
       "8   90              Brook"
      ]
     },
     "execution_count": 46,
     "metadata": {},
     "output_type": "execute_result"
    }
   ],
   "source": [
    "import pandas as pd\n",
    "name = [\"Monkey D. Luffy\", \"Roronoa Zoro\", \"Nami\", \"Usopp\", \"Vinsmoke Sanji\", \"Tony Tony Chopper\", \"Nico Robin\", \"Franky\", \"Brook\"]\n",
    "age = [19, 21, 20, 19, 21, 17, 30, 36, 90]\n",
    "\n",
    "straw_hat_dict = {\"name\": name,\n",
    "                  \"age\": age\n",
    "}\n",
    "\n",
    "straw_hat_df = pd.DataFrame(straw_hat_dict)\n",
    "print(type(straw_hat_df))\n",
    "straw_hat_df"
   ]
  },
  {
   "cell_type": "code",
   "execution_count": 115,
   "metadata": {
    "collapsed": false
   },
   "outputs": [
    {
     "name": "stdout",
     "output_type": "stream",
     "text": [
      "<class 'pandas.core.frame.DataFrame'>\n",
      "<class 'pandas.core.series.Series'>\n"
     ]
    },
    {
     "data": {
      "text/plain": [
       "0     True\n",
       "1     True\n",
       "2     True\n",
       "3     True\n",
       "4     True\n",
       "5     True\n",
       "6     True\n",
       "7    False\n",
       "8    False\n",
       "Name: age, dtype: bool"
      ]
     },
     "execution_count": 115,
     "metadata": {},
     "output_type": "execute_result"
    }
   ],
   "source": [
    "import pandas as pd # 引用套件並縮寫為 pd\n",
    "\n",
    "name = [\"Monkey D. Luffy\", \"Roronoa Zoro\", \"Nami\", \"Usopp\", \"Vinsmoke Sanji\", \"Tony Tony Chopper\", \"Nico Robin\", \"Franky\", \"Brook\"]\n",
    "age = [19, 21, 20, 19, 21, 17, 30, 36, 90]\n",
    "is_male = [True, True, False, True, True, True, False, True, True]\n",
    "\n",
    "straw_hat_dict = {\"name\": name,\n",
    "                  \"age\": age,\n",
    "                  \"is_male\": is_male\n",
    "}\n",
    "\n",
    "straw_hat_df = pd.DataFrame(straw_hat_dict)\n",
    "\n",
    "# 篩選小於 30 歲的船員\n",
    "filter = straw_hat_df.ix[:, \"age\"] <= 30\n",
    "straw_hat_df[filter]\n",
    "\n",
    "\n",
    "print(type(straw_hat_df))\n",
    "print(type(filter))\n",
    "filter"
   ]
  },
  {
   "cell_type": "code",
   "execution_count": 98,
   "metadata": {
    "collapsed": false
   },
   "outputs": [
    {
     "name": "stdout",
     "output_type": "stream",
     "text": [
      "(9, 3)\n",
      "---\n",
      "             age\n",
      "count   9.000000\n",
      "mean   30.333333\n",
      "std    23.205603\n",
      "min    17.000000\n",
      "25%    19.000000\n",
      "50%    21.000000\n",
      "75%    30.000000\n",
      "max    90.000000\n",
      "---\n",
      "   age is_male             name\n",
      "0   19    True  Monkey D. Luffy\n",
      "1   21    True     Roronoa Zoro\n",
      "2   20   False             Nami\n",
      "---\n",
      "   age is_male        name\n",
      "6   30   False  Nico Robin\n",
      "7   36    True      Franky\n",
      "8   90    True       Brook\n",
      "---\n",
      "Index(['age', 'is_male', 'name'], dtype='object')\n",
      "---\n",
      "RangeIndex(start=0, stop=9, step=1)\n"
     ]
    }
   ],
   "source": [
    "import pandas as pd # 引用套件並縮寫為 pd\n",
    "\n",
    "name = [\"Monkey D. Luffy\", \"Roronoa Zoro\", \"Nami\", \"Usopp\", \"Vinsmoke Sanji\", \"Tony Tony Chopper\", \"Nico Robin\", \"Franky\", \"Brook\"]\n",
    "age = [19, 21, 20, 19, 21, 17, 30, 36, 90]\n",
    "is_male = [True, True, False, True, True, True, False, True, True]\n",
    "\n",
    "straw_hat_dict = {\"name\": name,\n",
    "                  \"age\": age,\n",
    "                  \"is_male\": is_male\n",
    "}\n",
    "\n",
    "straw_hat_df = pd.DataFrame(straw_hat_dict)\n",
    "\n",
    "print(straw_hat_df.shape) # 回傳列數與欄數\n",
    "print(\"---\")\n",
    "print(straw_hat_df.describe()) # 回傳描述性統計\n",
    "print(\"---\")\n",
    "print(straw_hat_df.head(3)) # 回傳前三筆觀測值\n",
    "print(\"---\")\n",
    "print(straw_hat_df.tail(3)) # 回傳後三筆觀測值\n",
    "print(\"---\")\n",
    "print(straw_hat_df.columns) # 回傳欄位名稱\n",
    "print(\"---\")\n",
    "print(straw_hat_df.index) # 回傳索引值"
   ]
  },
  {
   "cell_type": "code",
   "execution_count": 72,
   "metadata": {
    "collapsed": false
   },
   "outputs": [
    {
     "name": "stdout",
     "output_type": "stream",
     "text": [
      "蒙其·D·魯夫 兩年前是 17 歲。\n"
     ]
    }
   ],
   "source": [
    "class Strawhat:\n",
    "    '''\n",
    "    這是一個叫做 Strawhat 的類別\n",
    "    '''\n",
    "    def __init__(self, name, age):\n",
    "        self.name = name\n",
    "        self.age = age\n",
    "\n",
    "    def print_age_2_yr_ago(self):\n",
    "        age_2_yr_age = self.age - 2\n",
    "        print(self.name, \"兩年前是\", age_2_yr_age, \"歲。\")\n",
    "\n",
    "# 根據 Strawhat 類別建立物件\n",
    "luffy = Strawhat(\"蒙其·D·魯夫\", 19)\n",
    "\n",
    "# 使用 luffy 的 print_age_2_yr_ago() 方法\n",
    "luffy.print_age_2_yr_ago()\n"
   ]
  },
  {
   "cell_type": "code",
   "execution_count": 6,
   "metadata": {
    "collapsed": false
   },
   "outputs": [
    {
     "name": "stdout",
     "output_type": "stream",
     "text": [
      "False\n",
      "True\n",
      "7\n",
      "3\n",
      "Python for data science!!!\n",
      "Python For Data Science!!!\n",
      "PYTHON FOR DATA SCIENCE!!!\n",
      "python for data science!!!\n",
      "PYTHON FOR dATA SCIENCE!!!\n",
      "python for Data analysis!!!\n"
     ]
    }
   ],
   "source": [
    "my_str = \"python for Data science!!!\"\n",
    "\n",
    "print(my_str.startswith(\"Python\"))\n",
    "print(my_str.endswith(\"!\"))\n",
    "print(my_str.find(\"for\"))\n",
    "print(my_str.count(\"!\"))\n",
    "print(my_str.capitalize())\n",
    "print(my_str.title())\n",
    "print(my_str.upper())\n",
    "print(my_str.lower())\n",
    "print(my_str.swapcase())\n",
    "print(my_str.replace(\"science\", \"analysis\"))"
   ]
  },
  {
   "cell_type": "code",
   "execution_count": 14,
   "metadata": {
    "collapsed": false
   },
   "outputs": [
    {
     "name": "stdout",
     "output_type": "stream",
     "text": [
      "[19, 21, 20, 19, 21, 17, 30, 36, 90]\n",
      "90\n",
      "[19, 21, 20, 19, 21, 17, 30, 36]\n",
      "1\n",
      "2\n",
      "[17, 19, 19, 20, 21, 21, 30, 36, 90, 90]\n",
      "[90, 90, 36, 30, 21, 21, 20, 19, 19, 17]\n"
     ]
    }
   ],
   "source": [
    "age = [19, 21, 20, 19, 21, 17, 30, 36]\n",
    "\n",
    "age.append(90)\n",
    "print(age)\n",
    "brook_age = age.pop()\n",
    "print(brook_age)\n",
    "print(age)\n",
    "age.insert(8, brook_age)\n",
    "age.remove(brook_age)\n",
    "print(age.index(21))\n",
    "age.append(90)\n",
    "age.append(90)\n",
    "print(age.count(90))\n",
    "age.sort()\n",
    "print(age)\n",
    "age.reverse()\n",
    "print(age)"
   ]
  },
  {
   "cell_type": "code",
   "execution_count": 15,
   "metadata": {
    "collapsed": false
   },
   "outputs": [
    {
     "name": "stdout",
     "output_type": "stream",
     "text": [
      "21\n",
      "dict_keys(['win_percentage', 'is_on_winning_streak', 'team_name', 'losses', 'wins'])\n",
      "dict_values([0.84, True, '金州勇士隊', 4, 21])\n"
     ]
    }
   ],
   "source": [
    "team_name = \"金州勇士隊\"\n",
    "wins = 21\n",
    "losses = 4\n",
    "win_percentage = 0.84\n",
    "is_on_winning_streak = True\n",
    "\n",
    "golden_state_warriors = {\n",
    "    \"team_name\": team_name,\n",
    "    \"wins\": wins,\n",
    "    \"losses\": losses,\n",
    "    \"win_percentage\": win_percentage,\n",
    "    \"is_on_winning_streak\": is_on_winning_streak\n",
    "}\n",
    "\n",
    "print(golden_state_warriors.get(\"wins\"))\n",
    "print(golden_state_warriors.keys()) # 用 list 把結果轉換\n",
    "print(golden_state_warriors.values()) # 用 list 把結果轉換"
   ]
  },
  {
   "cell_type": "code",
   "execution_count": 16,
   "metadata": {
    "collapsed": false
   },
   "outputs": [
    {
     "name": "stdout",
     "output_type": "stream",
     "text": [
      "[ 0.  0.  0.  0.  0.  0.]\n",
      "[ 0  1  2  3  4  5  6  7  8  9 10]\n",
      "[ 1  2  3  4  5  6  7  8  9 10]\n",
      "['0' '1' '2' '3' '4' '5' '6' '7' '8' '9']\n",
      "[[0 1 2 3 4]\n",
      " [5 6 7 8 9]]\n",
      "[[0 5]\n",
      " [1 6]\n",
      " [2 7]\n",
      " [3 8]\n",
      " [4 9]]\n",
      "[ 0.65110539 -0.41416267  1.28655613  0.37461533 -0.34172575  1.21339976\n",
      "  0.51818595 -0.93994997 -0.76674548 -0.3431876 ]\n",
      "[ 0.67158004  0.27388131  0.76439097  0.27507498  0.71854902  0.84811751\n",
      "  0.6720321   0.79875613  0.06430746  0.0227234 ]\n"
     ]
    }
   ],
   "source": [
    "import numpy as np\n",
    "\n",
    "print(np.zeros(6)) # 六個元素均為零的 1d array\n",
    "print(np.arange(11)) # 十一個元素為 0 到 10 的 1d array\n",
    "print(np.arange(1, 11)) # 十個元素為 1 到 10 的 1d array\n",
    "print(np.arange(10).astype(np.str)) # 利用 astype() 方法轉換為文字 \n",
    "print(np.arange(10).reshape(2, 5)) # 利用 reshape() 轉換為矩陣\n",
    "print(np.arange(10).reshape(2, 5).T) # 利用 T 屬性轉置\n",
    "print(np.random.normal(size = 10)) # 生成 10 組標準常態分配（平均值為 0，標準差為 1 的常態分配）隨機變數\n",
    "print(np.random.uniform(size = 10)) # 生成 10 組介於 0 與 1 之間均勻分配隨機變數\n"
   ]
  },
  {
   "cell_type": "code",
   "execution_count": 23,
   "metadata": {
    "collapsed": false
   },
   "outputs": [
    {
     "ename": "ValueError",
     "evalue": "labels [1] not contained in axis",
     "output_type": "error",
     "traceback": [
      "\u001b[0;31m---------------------------------------------------------------------------\u001b[0m",
      "\u001b[0;31mValueError\u001b[0m                                Traceback (most recent call last)",
      "\u001b[0;32m<ipython-input-23-c20c0e52a8fb>\u001b[0m in \u001b[0;36m<module>\u001b[0;34m()\u001b[0m\n\u001b[1;32m     14\u001b[0m \u001b[0;31m# 刪除觀測值或欄位\u001b[0m\u001b[0;34m\u001b[0m\u001b[0;34m\u001b[0m\u001b[0m\n\u001b[1;32m     15\u001b[0m \u001b[0mstraw_hat_df\u001b[0m\u001b[0;34m.\u001b[0m\u001b[0mdrop\u001b[0m\u001b[0;34m(\u001b[0m\u001b[0;36m0\u001b[0m\u001b[0;34m,\u001b[0m \u001b[0maxis\u001b[0m \u001b[0;34m=\u001b[0m \u001b[0;36m0\u001b[0m\u001b[0;34m)\u001b[0m\u001b[0;34m\u001b[0m\u001b[0m\n\u001b[0;32m---> 16\u001b[0;31m \u001b[0mstraw_hat_df\u001b[0m\u001b[0;34m.\u001b[0m\u001b[0mdrop\u001b[0m\u001b[0;34m(\u001b[0m\u001b[0;36m1\u001b[0m\u001b[0;34m,\u001b[0m \u001b[0maxis\u001b[0m \u001b[0;34m=\u001b[0m \u001b[0;36m1\u001b[0m\u001b[0;34m)\u001b[0m\u001b[0;34m\u001b[0m\u001b[0m\n\u001b[0m",
      "\u001b[0;32m/Users/tsengwaiming/anaconda/lib/python3.5/site-packages/pandas/core/generic.py\u001b[0m in \u001b[0;36mdrop\u001b[0;34m(self, labels, axis, level, inplace, errors)\u001b[0m\n\u001b[1;32m   1875\u001b[0m                 \u001b[0mnew_axis\u001b[0m \u001b[0;34m=\u001b[0m \u001b[0maxis\u001b[0m\u001b[0;34m.\u001b[0m\u001b[0mdrop\u001b[0m\u001b[0;34m(\u001b[0m\u001b[0mlabels\u001b[0m\u001b[0;34m,\u001b[0m \u001b[0mlevel\u001b[0m\u001b[0;34m=\u001b[0m\u001b[0mlevel\u001b[0m\u001b[0;34m,\u001b[0m \u001b[0merrors\u001b[0m\u001b[0;34m=\u001b[0m\u001b[0merrors\u001b[0m\u001b[0;34m)\u001b[0m\u001b[0;34m\u001b[0m\u001b[0m\n\u001b[1;32m   1876\u001b[0m             \u001b[0;32melse\u001b[0m\u001b[0;34m:\u001b[0m\u001b[0;34m\u001b[0m\u001b[0m\n\u001b[0;32m-> 1877\u001b[0;31m                 \u001b[0mnew_axis\u001b[0m \u001b[0;34m=\u001b[0m \u001b[0maxis\u001b[0m\u001b[0;34m.\u001b[0m\u001b[0mdrop\u001b[0m\u001b[0;34m(\u001b[0m\u001b[0mlabels\u001b[0m\u001b[0;34m,\u001b[0m \u001b[0merrors\u001b[0m\u001b[0;34m=\u001b[0m\u001b[0merrors\u001b[0m\u001b[0;34m)\u001b[0m\u001b[0;34m\u001b[0m\u001b[0m\n\u001b[0m\u001b[1;32m   1878\u001b[0m             \u001b[0mdropped\u001b[0m \u001b[0;34m=\u001b[0m \u001b[0mself\u001b[0m\u001b[0;34m.\u001b[0m\u001b[0mreindex\u001b[0m\u001b[0;34m(\u001b[0m\u001b[0;34m**\u001b[0m\u001b[0;34m{\u001b[0m\u001b[0maxis_name\u001b[0m\u001b[0;34m:\u001b[0m \u001b[0mnew_axis\u001b[0m\u001b[0;34m}\u001b[0m\u001b[0;34m)\u001b[0m\u001b[0;34m\u001b[0m\u001b[0m\n\u001b[1;32m   1879\u001b[0m             \u001b[0;32mtry\u001b[0m\u001b[0;34m:\u001b[0m\u001b[0;34m\u001b[0m\u001b[0m\n",
      "\u001b[0;32m/Users/tsengwaiming/anaconda/lib/python3.5/site-packages/pandas/indexes/base.py\u001b[0m in \u001b[0;36mdrop\u001b[0;34m(self, labels, errors)\u001b[0m\n\u001b[1;32m   3049\u001b[0m             \u001b[0;32mif\u001b[0m \u001b[0merrors\u001b[0m \u001b[0;34m!=\u001b[0m \u001b[0;34m'ignore'\u001b[0m\u001b[0;34m:\u001b[0m\u001b[0;34m\u001b[0m\u001b[0m\n\u001b[1;32m   3050\u001b[0m                 raise ValueError('labels %s not contained in axis' %\n\u001b[0;32m-> 3051\u001b[0;31m                                  labels[mask])\n\u001b[0m\u001b[1;32m   3052\u001b[0m             \u001b[0mindexer\u001b[0m \u001b[0;34m=\u001b[0m \u001b[0mindexer\u001b[0m\u001b[0;34m[\u001b[0m\u001b[0;34m~\u001b[0m\u001b[0mmask\u001b[0m\u001b[0;34m]\u001b[0m\u001b[0;34m\u001b[0m\u001b[0m\n\u001b[1;32m   3053\u001b[0m         \u001b[0;32mreturn\u001b[0m \u001b[0mself\u001b[0m\u001b[0;34m.\u001b[0m\u001b[0mdelete\u001b[0m\u001b[0;34m(\u001b[0m\u001b[0mindexer\u001b[0m\u001b[0;34m)\u001b[0m\u001b[0;34m\u001b[0m\u001b[0m\n",
      "\u001b[0;31mValueError\u001b[0m: labels [1] not contained in axis"
     ]
    }
   ],
   "source": [
    "import pandas as pd\n",
    "\n",
    "name = [\"蒙其·D·魯夫\", \"羅羅亞·索隆\", \"娜美\", \"騙人布\", \"賓什莫克·香吉士\", \"多尼多尼·喬巴\", \"妮可·羅賓\", \"佛朗基\", \"布魯克\"]\n",
    "age = [19, 21, 20, 19, 21, 17, 30, 36, 90]\n",
    "\n",
    "# 建立 dict\n",
    "straw_hat_dict = {\"name\": name,\n",
    "                  \"age\": age\n",
    "}\n",
    "\n",
    "# 建立 data frame\n",
    "straw_hat_df = pd.DataFrame(straw_hat_dict)\n",
    "\n",
    "# 刪除觀測值或欄位\n",
    "straw_hat_df.drop(0, axis = 0)\n",
    "straw_hat_df.drop(1, axis = 1)\n",
    "\n",
    "# 選擇觀測值或欄位\n",
    "straw_hat_df.ix[0, :]\n",
    "straw_hat_df.ix[:, 0]\n",
    "straw_hat_df.ix[0, 0]\n",
    "\n",
    "# 透過布林值篩選\n",
    "filter = straw_hat_df.age >= 30\n",
    "straw_hat_df[filter]\n",
    "filter = straw_hat_df.age < 30\n",
    "filter_2 = straw_hat_df.name == \"蒙其·D·魯夫\"\n",
    "straw_hat_df[filter & filter_2]"
   ]
  },
  {
   "cell_type": "code",
   "execution_count": null,
   "metadata": {
    "collapsed": true
   },
   "outputs": [],
   "source": []
  }
 ],
 "metadata": {
  "anaconda-cloud": {},
  "kernelspec": {
   "display_name": "Python 3",
   "language": "python",
   "name": "python3"
  },
  "language_info": {
   "codemirror_mode": {
    "name": "ipython",
    "version": 3
   },
   "file_extension": ".py",
   "mimetype": "text/x-python",
   "name": "python",
   "nbconvert_exporter": "python",
   "pygments_lexer": "ipython3",
   "version": "3.5.2"
  }
 },
 "nbformat": 4,
 "nbformat_minor": 1
}
